{
 "cells": [
  {
   "cell_type": "markdown",
   "id": "61bc661c-042e-497d-a021-0d6ef4176bb0",
   "metadata": {},
   "source": [
    "## **Test Dataset**\n",
    "This notebook will be used to test the dataset for MNIST. "
   ]
  },
  {
   "cell_type": "code",
   "execution_count": 1,
   "id": "cedf8761-7d1a-4dcf-a2f3-efcdd03fd633",
   "metadata": {},
   "outputs": [],
   "source": [
    "import sys\n",
    "sys.path.append(\"/home/jupyter-iroy2/advanced-neural-networks\")"
   ]
  },
  {
   "cell_type": "code",
   "execution_count": 2,
   "id": "9c78fe57-4f7f-4b45-b511-0149bef72ab9",
   "metadata": {},
   "outputs": [],
   "source": [
    "import torch\n",
    "import torchvision\n",
    "import numpy as np\n",
    "import matplotlib.pyplot as plt\n",
    "\n",
    "import os\n",
    "\n",
    "from advanced_neural_networks.dataloader.mnist import MNISTDataset"
   ]
  },
  {
   "cell_type": "code",
   "execution_count": 3,
   "id": "0b41c0b5-1a94-43d0-bd22-d26a24101fef",
   "metadata": {},
   "outputs": [],
   "source": [
    "def show_image(img: np.ndarray):\n",
    "\n",
    "    img = img.squeeze()\n",
    "    fig = plt.figure(figsize = (8, 5))\n",
    "\n",
    "    plt.imshow(img)\n",
    "    plt.show()"
   ]
  },
  {
   "cell_type": "code",
   "execution_count": 4,
   "id": "f1be828a-33d0-445e-bd9c-ca05da9e87be",
   "metadata": {},
   "outputs": [],
   "source": [
    "root_dir = \"/home/jupyter-iroy2/advanced-neural-networks\"\n",
    "module_path = os.path.join(root_dir, \"advanced_neural_networks\")\n",
    "dataloader_path = os.path.join(module_path, \"dataloader\")"
   ]
  },
  {
   "cell_type": "code",
   "execution_count": 5,
   "id": "be31abdf-b76f-44e8-aa36-0c8c5fd44c8c",
   "metadata": {},
   "outputs": [
    {
     "name": "stdout",
     "output_type": "stream",
     "text": [
      "Downloading http://fashion-mnist.s3-website.eu-central-1.amazonaws.com/train-images-idx3-ubyte.gz\n",
      "Downloading http://fashion-mnist.s3-website.eu-central-1.amazonaws.com/train-images-idx3-ubyte.gz to /home/jupyter-iroy2/advanced-neural-networks/data/FashionMNIST/raw/train-images-idx3-ubyte.gz\n"
     ]
    },
    {
     "name": "stderr",
     "output_type": "stream",
     "text": [
      "100%|██████████| 26421880/26421880 [00:01<00:00, 13715675.60it/s]\n"
     ]
    },
    {
     "name": "stdout",
     "output_type": "stream",
     "text": [
      "Extracting /home/jupyter-iroy2/advanced-neural-networks/data/FashionMNIST/raw/train-images-idx3-ubyte.gz to /home/jupyter-iroy2/advanced-neural-networks/data/FashionMNIST/raw\n",
      "\n",
      "Downloading http://fashion-mnist.s3-website.eu-central-1.amazonaws.com/train-labels-idx1-ubyte.gz\n",
      "Downloading http://fashion-mnist.s3-website.eu-central-1.amazonaws.com/train-labels-idx1-ubyte.gz to /home/jupyter-iroy2/advanced-neural-networks/data/FashionMNIST/raw/train-labels-idx1-ubyte.gz\n"
     ]
    },
    {
     "name": "stderr",
     "output_type": "stream",
     "text": [
      "100%|██████████| 29515/29515 [00:00<00:00, 43936.27it/s]\n"
     ]
    },
    {
     "name": "stdout",
     "output_type": "stream",
     "text": [
      "Extracting /home/jupyter-iroy2/advanced-neural-networks/data/FashionMNIST/raw/train-labels-idx1-ubyte.gz to /home/jupyter-iroy2/advanced-neural-networks/data/FashionMNIST/raw\n",
      "\n",
      "Downloading http://fashion-mnist.s3-website.eu-central-1.amazonaws.com/t10k-images-idx3-ubyte.gz\n",
      "Downloading http://fashion-mnist.s3-website.eu-central-1.amazonaws.com/t10k-images-idx3-ubyte.gz to /home/jupyter-iroy2/advanced-neural-networks/data/FashionMNIST/raw/t10k-images-idx3-ubyte.gz\n"
     ]
    },
    {
     "name": "stderr",
     "output_type": "stream",
     "text": [
      "100%|██████████| 4422102/4422102 [00:01<00:00, 4295130.39it/s]\n"
     ]
    },
    {
     "name": "stdout",
     "output_type": "stream",
     "text": [
      "Extracting /home/jupyter-iroy2/advanced-neural-networks/data/FashionMNIST/raw/t10k-images-idx3-ubyte.gz to /home/jupyter-iroy2/advanced-neural-networks/data/FashionMNIST/raw\n",
      "\n",
      "Downloading http://fashion-mnist.s3-website.eu-central-1.amazonaws.com/t10k-labels-idx1-ubyte.gz\n",
      "Downloading http://fashion-mnist.s3-website.eu-central-1.amazonaws.com/t10k-labels-idx1-ubyte.gz to /home/jupyter-iroy2/advanced-neural-networks/data/FashionMNIST/raw/t10k-labels-idx1-ubyte.gz\n"
     ]
    },
    {
     "name": "stderr",
     "output_type": "stream",
     "text": [
      "100%|██████████| 5148/5148 [00:00<00:00, 21657248.74it/s]"
     ]
    },
    {
     "name": "stdout",
     "output_type": "stream",
     "text": [
      "Extracting /home/jupyter-iroy2/advanced-neural-networks/data/FashionMNIST/raw/t10k-labels-idx1-ubyte.gz to /home/jupyter-iroy2/advanced-neural-networks/data/FashionMNIST/raw\n",
      "\n"
     ]
    },
    {
     "name": "stderr",
     "output_type": "stream",
     "text": [
      "\n"
     ]
    }
   ],
   "source": [
    "dataset_config = os.path.join(dataloader_path, \"mnist_config.yaml\")\n",
    "\n",
    "mnist_train = MNISTDataset(dataset_config,\n",
    "                          location = \"cloud\",\n",
    "                          train = True,\n",
    "                          transforms = [],\n",
    "                          data_type=\"FashionMNIST\")\n",
    "\n",
    "mnist_test = MNISTDataset(dataset_config,\n",
    "                          location = \"cloud\",\n",
    "                          train = False,\n",
    "                          transforms = [],\n",
    "                          data_type=\"FashionMNIST\")"
   ]
  },
  {
   "cell_type": "code",
   "execution_count": 6,
   "id": "3d4a6c45-5507-4395-bf57-f8966fa6ddb0",
   "metadata": {},
   "outputs": [
    {
     "data": {
      "image/png": "[encoded data removed]",
      "text/plain": [
       "<Figure size 800x500 with 1 Axes>"
      ]
     },
     "metadata": {},
     "output_type": "display_data"
    }
   ],
   "source": [
    "train_img, label = mnist_train[0]\n",
    "train_img = train_img.numpy()\n",
    "show_image(train_img)"
   ]
  },
  {
   "cell_type": "code",
   "execution_count": 7,
   "id": "4341bf34-8885-43c0-a64b-61939ef5e685",
   "metadata": {},
   "outputs": [
    {
     "data": {
      "image/png": "[encoded data removed]",
      "text/plain": [
       "<Figure size 800x500 with 1 Axes>"
      ]
     },
     "metadata": {},
     "output_type": "display_data"
    }
   ],
   "source": [
    "test_img, test_label = mnist_test[0]\n",
    "test_img = test_img.numpy()\n",
    "show_image(test_img)"
   ]
  },
  {
   "cell_type": "code",
   "execution_count": 8,
   "id": "d1d3a91a-5110-4058-be2e-2f85b6e57e6f",
   "metadata": {},
   "outputs": [
    {
     "name": "stdout",
     "output_type": "stream",
     "text": [
      "Samples in train dataset: 60000\n",
      "Samples in test dataset: 10000\n"
     ]
    }
   ],
   "source": [
    "print(f\"Samples in train dataset: {len(mnist_train)}\")\n",
    "print(f\"Samples in test dataset: {len(mnist_test)}\")"
   ]
  },
  {
   "cell_type": "code",
   "execution_count": 9,
   "id": "d10f99e0-ccf4-4df6-9a17-f98bcb68bd77",
   "metadata": {},
   "outputs": [
    {
     "data": {
      "text/plain": [
       "60000"
      ]
     },
     "execution_count": 9,
     "metadata": {},
     "output_type": "execute_result"
    }
   ],
   "source": [
    "len(mnist_train.dataset)"
   ]
  },
  {
   "cell_type": "code",
   "execution_count": 10,
   "id": "99889ac2-1ab0-422c-a7e3-f211a5f26065",
   "metadata": {},
   "outputs": [
    {
     "data": {
      "text/plain": [
       "tensor([[0, 0, 0, 0, 0, 0, 0, 0, 0, 1]])"
      ]
     },
     "execution_count": 10,
     "metadata": {},
     "output_type": "execute_result"
    }
   ],
   "source": [
    "y = torch.Tensor([9]).long()\n",
    "y = torch.nn.functional.one_hot(y, num_classes = 10)\n",
    "y"
   ]
  },
  {
   "cell_type": "code",
   "execution_count": 11,
   "id": "36b0d34f-fb87-4d69-b52e-c546d66512a0",
   "metadata": {},
   "outputs": [
    {
     "data": {
      "text/plain": [
       "torch.float64"
      ]
     },
     "execution_count": 11,
     "metadata": {},
     "output_type": "execute_result"
    }
   ],
   "source": [
    "test_label = test_label.double()\n",
    "test_label.dtype"
   ]
  },
  {
   "cell_type": "code",
   "execution_count": 12,
   "id": "8e8731ad-25a6-4bf6-91f2-758cf3680266",
   "metadata": {},
   "outputs": [
    {
     "ename": "AttributeError",
     "evalue": "'Tensor' object has no attribute 'astype'",
     "output_type": "error",
     "traceback": [
      "\u001b[0;31m---------------------------------------------------------------------------\u001b[0m",
      "\u001b[0;31mAttributeError\u001b[0m                            Traceback (most recent call last)",
      "Cell \u001b[0;32mIn[12], line 1\u001b[0m\n\u001b[0;32m----> 1\u001b[0m test_label \u001b[38;5;241m=\u001b[39m \u001b[43mtest_label\u001b[49m\u001b[38;5;241;43m.\u001b[39;49m\u001b[43mastype\u001b[49m(torch\u001b[38;5;241m.\u001b[39mfloat32)\n",
      "\u001b[0;31mAttributeError\u001b[0m: 'Tensor' object has no attribute 'astype'"
     ]
    }
   ],
   "source": [
    "test_label = test_label.astype(torch.float32)"
   ]
  },
  {
   "cell_type": "code",
   "execution_count": null,
   "id": "149df225-04a8-4a9b-9e47-55e57b45ddbc",
   "metadata": {},
   "outputs": [],
   "source": []
  }
 ],
 "metadata": {
  "kernelspec": {
   "display_name": "Python 3 (ipykernel)",
   "language": "python",
   "name": "python3"
  },
  "language_info": {
   "codemirror_mode": {
    "name": "ipython",
    "version": 3
   },
   "file_extension": ".py",
   "mimetype": "text/x-python",
   "name": "python",
   "nbconvert_exporter": "python",
   "pygments_lexer": "ipython3",
   "version": "3.10.10"
  }
 },
 "nbformat": 4,
 "nbformat_minor": 5
}
