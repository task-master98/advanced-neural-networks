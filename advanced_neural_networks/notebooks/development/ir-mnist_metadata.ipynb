{
 "cells": [
  {
   "cell_type": "markdown",
   "id": "717b5490-6c82-47a8-b5a5-9de431ed810e",
   "metadata": {},
   "source": [
    "## MNIST Metadata\n",
    "This notebook will be used to generate the metadata required for the MNIST dataset. This is done to gather dataset statistics and stratify the folds."
   ]
  },
  {
   "cell_type": "code",
   "execution_count": null,
   "id": "2524d271-649c-4419-a509-4e813d823499",
   "metadata": {},
   "outputs": [],
   "source": [
    "import sys\n",
    "sys.path.append(\"/Users/ishaanroy/Projects/advanced-neural-networks\")"
   ]
  },
  {
   "cell_type": "code",
   "execution_count": null,
   "id": "f604a69a-d850-473f-95e5-cc99c4a18c7b",
   "metadata": {},
   "outputs": [],
   "source": [
    "import numpy as np\n",
    "import pandas as pd\n",
    "import os\n",
    "import torch\n",
    "from tqdm import tqdm\n",
    "import matplotlib.pyplot as plt\n",
    "\n",
    "import advanced_neural_networks\n",
    "from advanced_neural_networks.dataloader.mnist import MNISTDataset\n",
    "\n",
    "import warnings\n",
    "warnings.filterwarnings(\"ignore\")"
   ]
  },
  {
   "cell_type": "code",
   "execution_count": null,
   "id": "435b861e-32b2-463b-94d4-18b31868dde0",
   "metadata": {},
   "outputs": [],
   "source": [
    "np.random.seed(42)"
   ]
  },
  {
   "cell_type": "code",
   "execution_count": null,
   "id": "60e58521-2da2-459f-bea2-714945ad5b79",
   "metadata": {},
   "outputs": [],
   "source": [
    "def partition_array(arr: np.ndarray, n_partitions):\n",
    "    partitions = np.array_split(arr, n_partitions)\n",
    "    return partitions\n",
    "\n",
    "\n",
    "def stratify_kfolds(metadata_df: pd.DataFrame, kfolds: int):\n",
    "    label_indices = {}\n",
    "    labels = sorted((metadata_df[\"label\"].unique().tolist()))\n",
    "    for label in labels:\n",
    "        indices = np.array(metadata_df.loc[metadata_df[\"label\"] == label].index)\n",
    "        label_indices[label] = indices\n",
    "\n",
    "    metadata_df[\"fold\"] = -1\n",
    "    \n",
    "    for label in labels:\n",
    "        lb_indices = label_indices[label]\n",
    "        np.random.shuffle(lb_indices)\n",
    "        label_partitions = partition_array(lb_indices, kfolds)\n",
    "\n",
    "        for itr, partition in enumerate((label_partitions)):\n",
    "            metadata_df.loc[partition, \"fold\"] = itr\n",
    "\n",
    "    return metadata_df"
   ]
  },
  {
   "cell_type": "code",
   "execution_count": null,
   "id": "0d2fce30-7c5c-48f7-b600-b6835207c1f4",
   "metadata": {},
   "outputs": [],
   "source": [
    "module_dir = advanced_neural_networks.__path__[0]\n",
    "dataloader_path = os.path.join(module_dir, \"dataloader\")\n",
    "dataset_config = os.path.join(dataloader_path, \"mnist_config.yaml\")"
   ]
  },
  {
   "cell_type": "code",
   "execution_count": null,
   "id": "44348404-1b94-4ffc-a0d0-b82b81671153",
   "metadata": {},
   "outputs": [],
   "source": [
    "mnist_train = MNISTDataset(config_file = dataset_config,\n",
    "                          location = \"cloud\",\n",
    "                          train = True,\n",
    "                          transforms = [],\n",
    "                          one_hot=False)\n",
    "\n",
    "mnist_test = MNISTDataset(config_file = dataset_config,\n",
    "                          location = \"cloud\",\n",
    "                          train = False,\n",
    "                          transforms = [],\n",
    "                          one_hot=False)"
   ]
  },
  {
   "cell_type": "code",
   "execution_count": null,
   "id": "93cc0d2f-6947-4b29-bb55-4871d20aa509",
   "metadata": {},
   "outputs": [],
   "source": [
    "train_metadata_df = pd.DataFrame()\n",
    "\n",
    "for data_point in tqdm(mnist_train):\n",
    "    x_image, label = data_point\n",
    "    channels, height, width = list(x_image.shape)\n",
    "    metadata = {\n",
    "        \"img_channels\": channels,\n",
    "        \"height\": height,\n",
    "        \"width\": width,\n",
    "        \"label\": label\n",
    "    }\n",
    "\n",
    "    train_metadata_df = pd.concat([train_metadata_df, pd.DataFrame([metadata])], ignore_index=True)\n",
    "    "
   ]
  },
  {
   "cell_type": "code",
   "execution_count": null,
   "id": "bc507add-e1a7-4359-af58-ead7554a1459",
   "metadata": {},
   "outputs": [],
   "source": [
    "train_metadata_df.head()"
   ]
  },
  {
   "cell_type": "code",
   "execution_count": null,
   "id": "51f599e4-083d-4ae7-98d2-54cc4074e355",
   "metadata": {},
   "outputs": [],
   "source": [
    "# summary df\n",
    "train_size_summary = train_metadata_df.groupby(\"label\").size()\n",
    "train_size_summary.plot(kind = \"bar\")\n",
    "plt.show()"
   ]
  },
  {
   "cell_type": "code",
   "execution_count": null,
   "id": "591f2696-08c9-49a7-8ef9-1a2052481155",
   "metadata": {},
   "outputs": [],
   "source": [
    "## check for corruptions\n",
    "condition = (train_metadata_df[\"img_channels\"] != 1) | (train_metadata_df[\"height\"] != 28) | (train_metadata_df[\"width\"] != 28)\n",
    "corrupt_df = train_metadata_df.loc[condition]\n",
    "corrupt_df"
   ]
  },
  {
   "cell_type": "code",
   "execution_count": null,
   "id": "e89d73fc-00d7-45bb-9ff6-46879e934996",
   "metadata": {},
   "outputs": [],
   "source": [
    "test_metadata_df = pd.DataFrame()\n",
    "\n",
    "for data_point in tqdm(mnist_test):\n",
    "    x_image, label = data_point\n",
    "    channels, height, width = list(x_image.shape)\n",
    "    metadata = {\n",
    "        \"img_channels\": channels,\n",
    "        \"height\": height,\n",
    "        \"width\": width,\n",
    "        \"label\": label\n",
    "    }\n",
    "\n",
    "    test_metadata_df = pd.concat([test_metadata_df, pd.DataFrame([metadata])], ignore_index=True)"
   ]
  },
  {
   "cell_type": "code",
   "execution_count": null,
   "id": "cbe567c1-13a0-4073-ae81-3404b090f04e",
   "metadata": {},
   "outputs": [],
   "source": [
    "test_metadata_df.head()"
   ]
  },
  {
   "cell_type": "code",
   "execution_count": null,
   "id": "15c0f15e-2afd-4575-b71c-b36b82d9fe4b",
   "metadata": {},
   "outputs": [],
   "source": [
    "# summary df\n",
    "test_size_summary = test_metadata_df.groupby(\"label\").size()\n",
    "test_size_summary.plot(kind = \"bar\")\n",
    "plt.show()"
   ]
  },
  {
   "cell_type": "code",
   "execution_count": null,
   "id": "08e2c7dc-7518-4b6a-9a14-f4c58e163913",
   "metadata": {},
   "outputs": [],
   "source": [
    "## check for corruptions\n",
    "condition = (test_metadata_df[\"img_channels\"] != 1) | (test_metadata_df[\"height\"] != 28) | (test_metadata_df[\"width\"] != 28)\n",
    "corrupt_df_test = test_metadata_df.loc[condition]\n",
    "corrupt_df_test"
   ]
  },
  {
   "cell_type": "code",
   "execution_count": null,
   "id": "bfd9e5cd-983c-437c-a438-3946c2563594",
   "metadata": {},
   "outputs": [],
   "source": [
    "## save metadata\n",
    "save_dir = os.path.join(module_dir, \"metadata\")\n",
    "train_df_path = os.path.join(save_dir, \"mnist_train_metadata.csv\")\n",
    "# train_metadata_df.to_csv(train_df_path, index=False)\n",
    "\n",
    "test_df_path = os.path.join(save_dir, \"mnist_test_metadata.csv\")\n",
    "# test_metadata_df.to_csv(test_df_path, index=False)"
   ]
  },
  {
   "cell_type": "code",
   "execution_count": null,
   "id": "37f7ac4c-cfa5-4e40-bc39-80cdd0d0a500",
   "metadata": {},
   "outputs": [],
   "source": [
    "## load saved metadata\n",
    "train_metadata_df = pd.read_csv(train_df_path)\n",
    "test_metadata_df = pd.read_csv(test_df_path)"
   ]
  },
  {
   "cell_type": "code",
   "execution_count": null,
   "id": "8e36307e",
   "metadata": {},
   "outputs": [],
   "source": [
    "train_metadata_df.head()"
   ]
  },
  {
   "cell_type": "code",
   "execution_count": null,
   "id": "0ba51fa1-678a-4166-89d1-9791aa77aafc",
   "metadata": {},
   "outputs": [],
   "source": [
    "train_metadata_df = stratify_kfolds(train_metadata_df, kfolds = 10)\n",
    "train_metadata_df.head()"
   ]
  },
  {
   "cell_type": "code",
   "execution_count": null,
   "id": "ceb7e780-f924-49b9-9d4f-a5eb10eae18e",
   "metadata": {},
   "outputs": [],
   "source": [
    "fold_summary = train_metadata_df.groupby([\"label\", \"fold\"]).size()\n",
    "fold_summary.unstack().plot(kind = \"bar\", stacked = True)\n",
    "plt.show()"
   ]
  },
  {
   "cell_type": "code",
   "execution_count": null,
   "id": "9e3aefb5",
   "metadata": {},
   "outputs": [],
   "source": []
  }
 ],
 "metadata": {
  "kernelspec": {
   "display_name": "Python 3 (ipykernel)",
   "language": "python",
   "name": "python3"
  },
  "language_info": {
   "codemirror_mode": {
    "name": "ipython",
    "version": 3
   },
   "file_extension": ".py",
   "mimetype": "text/x-python",
   "name": "python",
   "nbconvert_exporter": "python",
   "pygments_lexer": "ipython3",
   "version": "3.11.5"
  }
 },
 "nbformat": 4,
 "nbformat_minor": 5
}
